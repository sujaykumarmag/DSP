{
 "cells": [
  {
   "cell_type": "code",
   "execution_count": 7,
   "metadata": {},
   "outputs": [
    {
     "data": {
      "text/plain": [
       "MultiDeepDDS(\n",
       "  (cell_mlp): MultiLayerPerceptron(\n",
       "    (layers): ModuleList(\n",
       "      (0): Linear(in_features=112, out_features=32, bias=True)\n",
       "      (1-2): 2 x Linear(in_features=32, out_features=32, bias=True)\n",
       "    )\n",
       "  )\n",
       "  (drug_conv2): GraphIsomorphismNetwork(\n",
       "    (layers): ModuleList(\n",
       "      (0): GraphIsomorphismConv(\n",
       "        (mlp): MultiLayerPerceptron(\n",
       "          (layers): ModuleList(\n",
       "            (0-1): 2 x Linear(in_features=70, out_features=70, bias=True)\n",
       "          )\n",
       "        )\n",
       "      )\n",
       "      (1): GraphIsomorphismConv(\n",
       "        (mlp): MultiLayerPerceptron(\n",
       "          (layers): ModuleList(\n",
       "            (0): Linear(in_features=70, out_features=140, bias=True)\n",
       "            (1): Linear(in_features=140, out_features=140, bias=True)\n",
       "          )\n",
       "        )\n",
       "      )\n",
       "      (2): GraphIsomorphismConv(\n",
       "        (mlp): MultiLayerPerceptron(\n",
       "          (layers): ModuleList(\n",
       "            (0): Linear(in_features=140, out_features=280, bias=True)\n",
       "            (1): Linear(in_features=280, out_features=280, bias=True)\n",
       "          )\n",
       "        )\n",
       "      )\n",
       "    )\n",
       "    (readout): SumReadout()\n",
       "  )\n",
       "  (drug_conv1): GraphAttentionNetwork(\n",
       "    (layers): ModuleList(\n",
       "      (0): GraphAttentionConv(\n",
       "        (batch_norm): BatchNorm1d(70, eps=1e-05, momentum=0.1, affine=True, track_running_stats=True)\n",
       "        (linear): Linear(in_features=70, out_features=70, bias=True)\n",
       "      )\n",
       "      (1): GraphAttentionConv(\n",
       "        (batch_norm): BatchNorm1d(140, eps=1e-05, momentum=0.1, affine=True, track_running_stats=True)\n",
       "        (linear): Linear(in_features=70, out_features=140, bias=True)\n",
       "      )\n",
       "      (2): GraphAttentionConv(\n",
       "        (batch_norm): BatchNorm1d(280, eps=1e-05, momentum=0.1, affine=True, track_running_stats=True)\n",
       "        (linear): Linear(in_features=140, out_features=280, bias=True)\n",
       "      )\n",
       "    )\n",
       "    (readout): SumReadout()\n",
       "  )\n",
       "  (drug_readout): MaxReadout()\n",
       "  (drug_mlp): MultiLayerPerceptron(\n",
       "    (dropout): Dropout(p=0.5, inplace=False)\n",
       "    (layers): ModuleList(\n",
       "      (0): Linear(in_features=280, out_features=140, bias=True)\n",
       "      (1): Linear(in_features=140, out_features=32, bias=True)\n",
       "    )\n",
       "  )\n",
       "  (final): Sequential(\n",
       "    (0): MultiLayerPerceptron(\n",
       "      (dropout): Dropout(p=0.5, inplace=False)\n",
       "      (layers): ModuleList(\n",
       "        (0): Linear(in_features=160, out_features=32, bias=True)\n",
       "        (1): Linear(in_features=32, out_features=32, bias=True)\n",
       "        (2): Linear(in_features=32, out_features=1, bias=True)\n",
       "      )\n",
       "    )\n",
       "    (1): Sigmoid()\n",
       "  )\n",
       ")"
      ]
     },
     "execution_count": 7,
     "metadata": {},
     "output_type": "execute_result"
    }
   ],
   "source": [
    "from chemicalx.data import DrugPairBatch, BatchGenerator, DrugCombDB\n",
    "import torch\n",
    "import pandas as pd\n",
    "import numpy as np\n",
    "from src.model.multi_deep_dds import MultiDeepDDS\n",
    "\n",
    "\n",
    "loader = DrugCombDB()\n",
    "\n",
    "context_set = loader.get_context_features()\n",
    "drug_set = loader.get_drug_features()\n",
    "triplets = loader.get_labeled_triples()\n",
    "\n",
    "train, test = triplets.train_test_split(0.8)\n",
    "\n",
    "generator = BatchGenerator(batch_size=32,context_features=True, drug_features=True,drug_molecules=True,\n",
    "                           context_feature_set=context_set, drug_feature_set=drug_set, labeled_triples=train)\n",
    "\n",
    "model = MultiDeepDDS(context_channels=len(generator.context_feature_set))\n",
    "for i in generator:\n",
    "    sample =i\n",
    "# model.load_state_dict(torch.load(\"saved_models/model.pt\"))\n",
    "model.eval()\n"
   ]
  },
  {
   "cell_type": "code",
   "execution_count": 4,
   "metadata": {},
   "outputs": [
    {
     "name": "stdout",
     "output_type": "stream",
     "text": [
      "(24, 32)\n",
      "(24, 32)\n",
      "(24, 32)\n",
      "(24, 32)\n"
     ]
    },
    {
     "data": {
      "text/plain": [
       "tensor([[0.5009],\n",
       "        [0.2954],\n",
       "        [0.2954],\n",
       "        [0.2954],\n",
       "        [0.3332],\n",
       "        [0.2040],\n",
       "        [0.2184],\n",
       "        [0.2540],\n",
       "        [0.2169],\n",
       "        [0.2767],\n",
       "        [0.3378],\n",
       "        [0.3021],\n",
       "        [0.2032],\n",
       "        [0.2030],\n",
       "        [0.2579],\n",
       "        [0.2627],\n",
       "        [0.1996],\n",
       "        [0.2760],\n",
       "        [0.2542],\n",
       "        [0.1917],\n",
       "        [0.2642],\n",
       "        [0.7501],\n",
       "        [0.5923],\n",
       "        [0.2954]], grad_fn=<SigmoidBackward0>)"
      ]
     },
     "execution_count": 4,
     "metadata": {},
     "output_type": "execute_result"
    }
   ],
   "source": [
    "model(sample.context_features, sample.drug_molecules_left, sample.drug_molecules_right,plot=True)"
   ]
  },
  {
   "cell_type": "code",
   "execution_count": 2,
   "metadata": {},
   "outputs": [],
   "source": [
    "import matplotlib \n",
    "matplotlib.use(\"TkAgg\")\n",
    "import matplotlib.pyplot as plt"
   ]
  },
  {
   "cell_type": "code",
   "execution_count": 7,
   "metadata": {},
   "outputs": [],
   "source": [
    "sample.drug_molecules_left[0].visualize()\n",
    "plt.show()"
   ]
  },
  {
   "cell_type": "code",
   "execution_count": 3,
   "metadata": {},
   "outputs": [],
   "source": [
    "\n",
    "pd.DataFrame([model._forward_molecules_gcn(sample.drug_molecules_left)[0].detach().numpy()]).T.plot()\n",
    "plt.show()"
   ]
  },
  {
   "cell_type": "code",
   "execution_count": 4,
   "metadata": {},
   "outputs": [],
   "source": [
    "pd.DataFrame([model._forward_molecules_gcn(sample.drug_molecules_left)[0].detach().numpy()]).T.plot()\n",
    "plt.show()"
   ]
  },
  {
   "cell_type": "code",
   "execution_count": 8,
   "metadata": {},
   "outputs": [
    {
     "data": {
      "text/plain": [
       "tensor([ 0.0660,  0.0220,  0.0213, -0.0059, -0.0547, -0.0398,  0.0395,  0.0318,\n",
       "        -0.0855, -0.0203,  0.0005, -0.0449,  0.0147,  0.0048, -0.0619, -0.0187,\n",
       "        -0.0726,  0.0600, -0.0562, -0.0751, -0.0398, -0.0276, -0.0358,  0.0641,\n",
       "        -0.0469,  0.0126, -0.0191, -0.0875, -0.0548,  0.0232,  0.0802, -0.0485],\n",
       "       grad_fn=<SelectBackward0>)"
      ]
     },
     "execution_count": 8,
     "metadata": {},
     "output_type": "execute_result"
    }
   ],
   "source": [
    "model._forward_molecules_gcn(sample.drug_molecules_left)[0]"
   ]
  },
  {
   "cell_type": "code",
   "execution_count": 9,
   "metadata": {},
   "outputs": [
    {
     "data": {
      "text/plain": [
       "tensor([ 2.8079, -4.9001, -5.7083,  0.2397,  1.0207,  0.2084,  3.4843,  1.1955,\n",
       "        -7.4326,  1.8987,  3.4927,  3.2551,  0.3835,  0.1511, -2.7930,  5.9844,\n",
       "         0.3483,  5.3080, -0.2741, -1.0815, -1.8215, -0.5139,  2.0051, -3.7820,\n",
       "        -3.8098, -2.1066,  3.6106, -1.0428,  1.2884, -4.0015,  1.1205, -4.3926],\n",
       "       grad_fn=<SelectBackward0>)"
      ]
     },
     "execution_count": 9,
     "metadata": {},
     "output_type": "execute_result"
    }
   ],
   "source": [
    "model._forward_molecules_gin(sample.drug_molecules_left)[0]"
   ]
  },
  {
   "cell_type": "code",
   "execution_count": null,
   "metadata": {},
   "outputs": [],
   "source": []
  }
 ],
 "metadata": {
  "kernelspec": {
   "display_name": "venv",
   "language": "python",
   "name": "python3"
  },
  "language_info": {
   "codemirror_mode": {
    "name": "ipython",
    "version": 3
   },
   "file_extension": ".py",
   "mimetype": "text/x-python",
   "name": "python",
   "nbconvert_exporter": "python",
   "pygments_lexer": "ipython3",
   "version": "3.10.12"
  }
 },
 "nbformat": 4,
 "nbformat_minor": 2
}
